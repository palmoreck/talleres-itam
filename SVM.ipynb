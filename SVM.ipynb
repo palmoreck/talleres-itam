{
 "cells": [
  {
   "cell_type": "code",
   "execution_count": 1,
   "id": "0ba1783e-d7ab-407f-81a1-ae33e1d1a7e2",
   "metadata": {
    "tags": [
     "margin"
    ]
   },
   "outputs": [
    {
     "name": "stdout",
     "output_type": "stream",
     "text": [
      "\u001b[33mWARNING: You are using pip version 21.3.1; however, version 22.0.4 is available.\n",
      "You should consider upgrading via the '/usr/bin/python3 -m pip install --upgrade pip' command.\u001b[0m\n"
     ]
    }
   ],
   "source": [
    "!pip install --quiet sklearn"
   ]
  },
  {
   "cell_type": "code",
   "execution_count": 1,
   "id": "049a83e2-1f49-4bc2-bf9e-559997d45372",
   "metadata": {},
   "outputs": [],
   "source": [
    "import numpy as np\n",
    "from sklearn import datasets\n",
    "import matplotlib.pyplot as plt\n",
    "import cvxpy as cp"
   ]
  },
  {
   "cell_type": "code",
   "execution_count": 2,
   "id": "1363f74d-3517-44ec-bb65-fdae77cbdaa0",
   "metadata": {},
   "outputs": [],
   "source": [
    "np.set_printoptions(precision=2, suppress=True)"
   ]
  },
  {
   "cell_type": "code",
   "execution_count": 3,
   "id": "1cf138c8-5a21-4cfe-8be8-672b17d91735",
   "metadata": {},
   "outputs": [],
   "source": [
    "iris = datasets.load_iris()"
   ]
  },
  {
   "cell_type": "code",
   "execution_count": 4,
   "id": "74ea1169-0be7-4e6a-82bd-458625f2026e",
   "metadata": {},
   "outputs": [],
   "source": [
    "data_iris = iris[\"data\"]"
   ]
  },
  {
   "cell_type": "code",
   "execution_count": 5,
   "id": "cc6f432d-74a4-411d-817d-c2d9510cc6be",
   "metadata": {},
   "outputs": [
    {
     "name": "stdout",
     "output_type": "stream",
     "text": [
      "[[5.1 3.5 1.4 0.2]\n",
      " [4.9 3.  1.4 0.2]\n",
      " [4.7 3.2 1.3 0.2]\n",
      " [4.6 3.1 1.5 0.2]\n",
      " [5.  3.6 1.4 0.2]\n",
      " [5.4 3.9 1.7 0.4]\n",
      " [4.6 3.4 1.4 0.3]\n",
      " [5.  3.4 1.5 0.2]\n",
      " [4.4 2.9 1.4 0.2]\n",
      " [4.9 3.1 1.5 0.1]]\n"
     ]
    }
   ],
   "source": [
    "print(data_iris[0:10, 0:10])"
   ]
  },
  {
   "cell_type": "code",
   "execution_count": 6,
   "id": "06db1491-3fca-42c3-b661-e12f91e62d36",
   "metadata": {},
   "outputs": [
    {
     "name": "stdout",
     "output_type": "stream",
     "text": [
      "número de observaciones:150, número de atributos: 4\n"
     ]
    }
   ],
   "source": [
    "m,n = data_iris.shape\n",
    "print(\"número de observaciones:%d, número de atributos: %d\" % (m,n))"
   ]
  },
  {
   "cell_type": "markdown",
   "id": "853408da-388a-4536-a613-746861ceb673",
   "metadata": {},
   "source": [
    "Columnas en este orden: `Sepal.Length`, `Sepal.Width`, `Petal.Length`, `Petal.Width`"
   ]
  },
  {
   "cell_type": "code",
   "execution_count": 7,
   "id": "b5947bd7-5bdb-4b29-ac9d-46fe96f59d76",
   "metadata": {},
   "outputs": [
    {
     "name": "stdout",
     "output_type": "stream",
     "text": [
      "['setosa' 'versicolor' 'virginica']\n"
     ]
    }
   ],
   "source": [
    "print(iris[\"target_names\"])"
   ]
  },
  {
   "cell_type": "code",
   "execution_count": 8,
   "id": "73c3b70e-bbd5-4e7f-a7d5-5395ee82cc7d",
   "metadata": {},
   "outputs": [
    {
     "name": "stdout",
     "output_type": "stream",
     "text": [
      "[0 1 2]\n"
     ]
    }
   ],
   "source": [
    "print(np.unique(iris[\"target\"]))"
   ]
  },
  {
   "cell_type": "code",
   "execution_count": 9,
   "id": "06fc61d1-be1f-4a7d-a763-5b2aca7468c0",
   "metadata": {},
   "outputs": [],
   "source": [
    "data_iris_setosa_versicolor = data_iris[0:100].copy()\n",
    "classes = iris[\"target\"][0:100].copy()"
   ]
  },
  {
   "cell_type": "code",
   "execution_count": 10,
   "id": "c4f8ac00-219c-4b4c-a5df-188641d2ee84",
   "metadata": {},
   "outputs": [
    {
     "name": "stdout",
     "output_type": "stream",
     "text": [
      "[0 0 0 0 0 0 0 0 0 0 0 0 0 0 0 0 0 0 0 0 0 0 0 0 0 0 0 0 0 0 0 0 0 0 0 0 0\n",
      " 0 0 0 0 0 0 0 0 0 0 0 0 0 1 1 1 1 1 1 1 1 1 1 1 1 1 1 1 1 1 1 1 1 1 1 1 1\n",
      " 1 1 1 1 1 1 1 1 1 1 1 1 1 1 1 1 1 1 1 1 1 1 1 1 1 1]\n"
     ]
    }
   ],
   "source": [
    "print(classes)"
   ]
  },
  {
   "cell_type": "code",
   "execution_count": 11,
   "id": "04999ae9-6f48-4556-83c6-424f0bb5b79b",
   "metadata": {},
   "outputs": [],
   "source": [
    "classes[0:50] = classes[0:50].copy()-1"
   ]
  },
  {
   "cell_type": "code",
   "execution_count": 12,
   "id": "93dc6415-1908-42c3-85af-891c5bba2762",
   "metadata": {},
   "outputs": [
    {
     "name": "stdout",
     "output_type": "stream",
     "text": [
      "[-1 -1 -1 -1 -1 -1 -1 -1 -1 -1 -1 -1 -1 -1 -1 -1 -1 -1 -1 -1 -1 -1 -1 -1\n",
      " -1 -1 -1 -1 -1 -1 -1 -1 -1 -1 -1 -1 -1 -1 -1 -1 -1 -1 -1 -1 -1 -1 -1 -1\n",
      " -1 -1  1  1  1  1  1  1  1  1  1  1  1  1  1  1  1  1  1  1  1  1  1  1\n",
      "  1  1  1  1  1  1  1  1  1  1  1  1  1  1  1  1  1  1  1  1  1  1  1  1\n",
      "  1  1  1  1]\n"
     ]
    }
   ],
   "source": [
    "print(classes)"
   ]
  },
  {
   "cell_type": "markdown",
   "id": "10e303ba-3d84-4fd0-931b-e894343beeae",
   "metadata": {},
   "source": [
    "Estandarizamos la matriz de datos:"
   ]
  },
  {
   "cell_type": "code",
   "execution_count": 13,
   "id": "db46a181-a8d6-42cf-b309-de5b21da6cc2",
   "metadata": {},
   "outputs": [],
   "source": [
    "data_iris_setosa_versicolor = (data_iris_setosa_versicolor-\n",
    "                               data_iris_setosa_versicolor.mean(axis=0))/data_iris_setosa_versicolor.std(axis=0)"
   ]
  },
  {
   "cell_type": "markdown",
   "id": "fc2e4548-445c-4460-82a9-6a483e60f714",
   "metadata": {},
   "source": [
    "**Añadimos la columna que indica uso de intercepto:**"
   ]
  },
  {
   "cell_type": "code",
   "execution_count": 14,
   "id": "ca57ebb1-a3ca-4a27-8558-6a91dd5b0ed7",
   "metadata": {},
   "outputs": [],
   "source": [
    "m,n = data_iris_setosa_versicolor.shape"
   ]
  },
  {
   "cell_type": "code",
   "execution_count": 15,
   "id": "47f683e4-d4df-482c-b775-bd9e8bf2d366",
   "metadata": {},
   "outputs": [],
   "source": [
    "data_iris_setosa_versicolor = np.column_stack((-1*np.ones((m,1)), data_iris_setosa_versicolor))"
   ]
  },
  {
   "cell_type": "code",
   "execution_count": 16,
   "id": "19d935c3-e7fa-4e8b-9bae-c8b3d7fc9fe9",
   "metadata": {},
   "outputs": [
    {
     "name": "stdout",
     "output_type": "stream",
     "text": [
      "[[-1.   -0.58  0.84 -1.01 -1.04]\n",
      " [-1.   -0.89 -0.21 -1.01 -1.04]\n",
      " [-1.   -1.21  0.21 -1.08 -1.04]\n",
      " [-1.   -1.36  0.   -0.94 -1.04]\n",
      " [-1.   -0.74  1.05 -1.01 -1.04]\n",
      " [-1.   -0.11  1.68 -0.8  -0.69]\n",
      " [-1.   -1.36  0.63 -1.01 -0.86]\n",
      " [-1.   -0.74  0.63 -0.94 -1.04]\n",
      " [-1.   -1.68 -0.42 -1.01 -1.04]\n",
      " [-1.   -0.89  0.   -0.94 -1.22]]\n"
     ]
    }
   ],
   "source": [
    "print(data_iris_setosa_versicolor[0:10, 0:10])"
   ]
  },
  {
   "cell_type": "markdown",
   "id": "7361b76e-7645-42f6-987c-506d46cefc19",
   "metadata": {},
   "source": [
    "Visualizamos para algunos atributos:"
   ]
  },
  {
   "cell_type": "markdown",
   "id": "fb745e25-c213-4ca4-b41b-38bbcb824e38",
   "metadata": {},
   "source": [
    "```{margin}\n",
    "\n",
    "Obsérvese que considerando los atributos `Sepal.Length` y `Sepal.Width` se pueden separar la clase *I. setosa* codificada como $-1$ y la clase *I. versicolor* codificada como $1$ de forma lineal.\n",
    "```"
   ]
  },
  {
   "cell_type": "code",
   "execution_count": 17,
   "id": "20d305f8-fb0d-4e39-8282-f19910c84ce3",
   "metadata": {},
   "outputs": [
    {
     "data": {
      "image/png": "[encoded data removed]",
      "text/plain": [
       "<Figure size 432x288 with 1 Axes>"
      ]
     },
     "metadata": {
      "needs_background": "light"
     },
     "output_type": "display_data"
    }
   ],
   "source": [
    "plt.scatter(data_iris_setosa_versicolor[:, 1], \n",
    "            data_iris_setosa_versicolor[:, 2], c=classes, cmap=plt.cm.Set1,\n",
    "            edgecolor='k')\n",
    "plt.xlabel(\"sepal length\")\n",
    "plt.ylabel(\"sepal width\")\n",
    "plt.show()"
   ]
  },
  {
   "cell_type": "markdown",
   "id": "a0603c95-bd3a-4bc4-b824-18a866070089",
   "metadata": {},
   "source": [
    "```{margin}\n",
    "Obsérvese que considerando los atributos `Petal.Length` y `Petal.Width` se pueden separar la clase *I. setosa* codificada como $-1$ y la clase *I. versicolor* codificada como $1$ de forma lineal.\n",
    "\n",
    "```"
   ]
  },
  {
   "cell_type": "code",
   "execution_count": 18,
   "id": "073934de-e6de-4aa5-9bfa-0e4e547162e8",
   "metadata": {},
   "outputs": [
    {
     "data": {
      "image/png": "[encoded data removed]",
      "text/plain": [
       "<Figure size 432x288 with 1 Axes>"
      ]
     },
     "metadata": {
      "needs_background": "light"
     },
     "output_type": "display_data"
    }
   ],
   "source": [
    "plt.scatter(data_iris_setosa_versicolor[:, 3], \n",
    "            data_iris_setosa_versicolor[:, 4], c=classes, cmap=plt.cm.Set1,\n",
    "            edgecolor='k')\n",
    "plt.xlabel(\"petal length\")\n",
    "plt.ylabel(\"petal width\")\n",
    "plt.show()"
   ]
  },
  {
   "cell_type": "markdown",
   "id": "a4ff1631-0644-496f-b8a8-eef418f7f274",
   "metadata": {},
   "source": [
    "**Función objetivo:**\n",
    "\n",
    "$$\\frac{||a||^2_2}{2}$$\n",
    "\n",
    "**y restricciones:**\n",
    "\n",
    "$$a^Tx_i - b \\leq -1, \\quad \\forall i=1, \\dots, N$$\n",
    "\n",
    "$$a^Ty_i -b \\geq 1, \\quad \\forall i=1, \\dots, M$$"
   ]
  },
  {
   "cell_type": "markdown",
   "id": "b0578c90-2b94-47a7-a267-4ec0c7609949",
   "metadata": {},
   "source": [
    "```{margin}\n",
    "\n",
    "Ver [cvxpy: svm](https://www.cvxpy.org/examples/machine_learning/svm.html)\n",
    "\n",
    "```"
   ]
  },
  {
   "cell_type": "markdown",
   "id": "3111cf86-b6a0-40a0-9d31-bfcfd441374b",
   "metadata": {},
   "source": [
    "```{margin}\n",
    "\n",
    "El vector `vec` contiene al intercepto $b$ y al vector $a$.\n",
    "\n",
    "```"
   ]
  },
  {
   "cell_type": "code",
   "execution_count": 19,
   "id": "17c26809-c9f1-4e44-afa8-469b981fb783",
   "metadata": {},
   "outputs": [],
   "source": [
    "n = 5 #number of variables\n",
    "vec = cp.Variable(n) #optimization variable"
   ]
  },
  {
   "cell_type": "markdown",
   "id": "010e92a5-ef53-4bd2-b51e-3ee46c41c0d9",
   "metadata": {},
   "source": [
    "```{margin}\n",
    "\n",
    "`vec[0]` es $b$, `vec[1:n]` es $a$.\n",
    "\n",
    "```"
   ]
  },
  {
   "cell_type": "code",
   "execution_count": 20,
   "id": "6f3fb42a-dc32-4424-89ec-72336eee968a",
   "metadata": {},
   "outputs": [],
   "source": [
    "fo_cvxpy = 1/2*cp.norm(vec[1:n],2)**2 #fo just includes a not intercept"
   ]
  },
  {
   "cell_type": "code",
   "execution_count": 21,
   "id": "56995057-b524-4bd0-a29b-2501268d6952",
   "metadata": {},
   "outputs": [],
   "source": [
    "constraints = [data_iris_setosa_versicolor[0:50,:]@vec <=-1,\n",
    "               data_iris_setosa_versicolor[50:100,:]@vec >= 1]"
   ]
  },
  {
   "cell_type": "code",
   "execution_count": 22,
   "id": "08f4dedb-a8a4-43c7-93aa-f8df7cfac0a6",
   "metadata": {},
   "outputs": [],
   "source": [
    "obj = cp.Minimize(fo_cvxpy)"
   ]
  },
  {
   "cell_type": "code",
   "execution_count": 23,
   "id": "d677d0f7-6066-482c-a822-41aa3d2fa9d9",
   "metadata": {},
   "outputs": [
    {
     "name": "stdout",
     "output_type": "stream",
     "text": [
      "0.6190278040023801\n"
     ]
    }
   ],
   "source": [
    "prob = cp.Problem(obj, constraints)\n",
    "print(prob.solve())"
   ]
  },
  {
   "cell_type": "code",
   "execution_count": 24,
   "id": "7fc9f175-0708-43a5-96b0-dac9ac1b0243",
   "metadata": {},
   "outputs": [
    {
     "name": "stdout",
     "output_type": "stream",
     "text": [
      "\n",
      "The optimal value is 0.6190278040023801\n",
      "The optimal vector with intercept is\n",
      "[-0.24  0.27 -0.34  0.7   0.75]\n"
     ]
    }
   ],
   "source": [
    "print(\"\\nThe optimal value is\", prob.value)\n",
    "print(\"The optimal vector with intercept is\")\n",
    "print(vec.value)"
   ]
  },
  {
   "cell_type": "markdown",
   "id": "59e616ad-260c-4597-a33d-830904686ffc",
   "metadata": {},
   "source": [
    "Los primeros $50$ renglones pertenecen a la clase $\\mathcal{C}_{-1}:$ *I. setosa* y los restantes $50$ renglones pertenecen a la clase $\\mathcal{C}_{1}$: *I. versicolor*. Se clasifica de acuerdo al signo de: $a^Tx - b$:"
   ]
  },
  {
   "cell_type": "code",
   "execution_count": 25,
   "id": "628c0437-cf26-41b7-ad1b-05a30dd41087",
   "metadata": {},
   "outputs": [
    {
     "name": "stdout",
     "output_type": "stream",
     "text": [
      "[-1. -1. -1. -1. -1. -1. -1. -1. -1. -1. -1. -1. -1. -1. -1. -1. -1. -1.\n",
      " -1. -1. -1. -1. -1. -1. -1. -1. -1. -1. -1. -1. -1. -1. -1. -1. -1. -1.\n",
      " -1. -1. -1. -1. -1. -1. -1. -1. -1. -1. -1. -1. -1. -1.]\n"
     ]
    }
   ],
   "source": [
    "print(np.sign(data_iris_setosa_versicolor[0:50,:]@vec.value))"
   ]
  },
  {
   "cell_type": "code",
   "execution_count": 26,
   "id": "bdd14527-94aa-428a-92d7-a31fd403b409",
   "metadata": {},
   "outputs": [
    {
     "name": "stdout",
     "output_type": "stream",
     "text": [
      "[1. 1. 1. 1. 1. 1. 1. 1. 1. 1. 1. 1. 1. 1. 1. 1. 1. 1. 1. 1. 1. 1. 1. 1.\n",
      " 1. 1. 1. 1. 1. 1. 1. 1. 1. 1. 1. 1. 1. 1. 1. 1. 1. 1. 1. 1. 1. 1. 1. 1.\n",
      " 1. 1.]\n"
     ]
    }
   ],
   "source": [
    "print(np.sign(data_iris_setosa_versicolor[50:100,:]@vec.value))"
   ]
  },
  {
   "cell_type": "markdown",
   "id": "ad59959e-f6ce-4c1c-9585-bb976b2a8b9a",
   "metadata": {},
   "source": [
    "Visualización utilizando únicamente `Sepal.Length` y `Sepal.Width`:"
   ]
  },
  {
   "cell_type": "code",
   "execution_count": 27,
   "id": "70b37cd4-c8c0-413e-bd22-781ac9b7b396",
   "metadata": {},
   "outputs": [],
   "source": [
    "x_min = np.min(data_iris_setosa_versicolor[:,1])\n",
    "x_max = np.max(data_iris_setosa_versicolor[:,1])\n",
    "y_min = np.min(data_iris_setosa_versicolor[:,2])\n",
    "y_max = np.max(data_iris_setosa_versicolor[:,2])\n",
    "x_plot = np.linspace(x_min, x_max, 100)"
   ]
  },
  {
   "cell_type": "code",
   "execution_count": 28,
   "id": "121953f9-bcb0-46a1-84c0-20fbd1d678b8",
   "metadata": {},
   "outputs": [],
   "source": [
    "b, a = vec.value[0], vec.value[1:n]"
   ]
  },
  {
   "cell_type": "code",
   "execution_count": 29,
   "id": "d02ebe2d-6a98-487d-bdfd-b874223e2a8b",
   "metadata": {},
   "outputs": [],
   "source": [
    "y_plot = 1/a[1]*(-a[0]*x_plot + b)\n",
    "y_plot_minus_1 = 1/a[1]*(-a[0]*x_plot + b -1)\n",
    "\n",
    "y_plot_plus_1 = 1/a[1]*(-a[0]*x_plot + b + 1)"
   ]
  },
  {
   "cell_type": "code",
   "execution_count": 30,
   "id": "4fc49788-24ce-4679-9a28-b7876255c3c2",
   "metadata": {},
   "outputs": [
    {
     "data": {
      "image/png": "[encoded data removed]",
      "text/plain": [
       "<Figure size 432x288 with 1 Axes>"
      ]
     },
     "metadata": {
      "needs_background": "light"
     },
     "output_type": "display_data"
    }
   ],
   "source": [
    "plt.scatter(data_iris_setosa_versicolor[:, 1], \n",
    "            data_iris_setosa_versicolor[:, 2], c=classes, cmap=plt.cm.Set1,\n",
    "            edgecolor='k')\n",
    "plt.plot(x_plot,y_plot,'b',\n",
    "         x_plot,y_plot_minus_1, 'm',\n",
    "         x_plot, y_plot_plus_1,'r')\n",
    "plt.xlabel(\"sepal length\")\n",
    "plt.ylabel(\"sepal width\")\n",
    "plt.show()"
   ]
  },
  {
   "cell_type": "markdown",
   "id": "81bed5ff-ec8d-499e-8e7c-11477d12e52e",
   "metadata": {},
   "source": [
    "Visualización utilizando únicamente `Petal.Length` y `Petal.Width`:"
   ]
  },
  {
   "cell_type": "code",
   "execution_count": 31,
   "id": "b2932bf9-9ae7-4d04-b80d-198083583f0e",
   "metadata": {},
   "outputs": [],
   "source": [
    "x_min = np.min(data_iris_setosa_versicolor[:,3])\n",
    "x_max = np.max(data_iris_setosa_versicolor[:,3])\n",
    "y_min = np.min(data_iris_setosa_versicolor[:,4])\n",
    "y_max = np.max(data_iris_setosa_versicolor[:,4])\n",
    "x_plot = np.linspace(x_min, x_max, 100)"
   ]
  },
  {
   "cell_type": "code",
   "execution_count": 32,
   "id": "d16f6c5b-bc70-46e0-a6c1-1e17a1332456",
   "metadata": {},
   "outputs": [],
   "source": [
    "y_plot = 1/a[3]*(-a[2]*x_plot + b)\n",
    "y_plot_minus_1 = 1/a[3]*(-a[2]*x_plot + b -1)\n",
    "\n",
    "y_plot_plus_1 = 1/a[3]*(-a[2]*x_plot + b + 1)"
   ]
  },
  {
   "cell_type": "code",
   "execution_count": 33,
   "id": "3a5aa65b-a2ef-49d3-b655-190dbc6c4a66",
   "metadata": {},
   "outputs": [
    {
     "data": {
      "image/png": "[encoded data removed]",
      "text/plain": [
       "<Figure size 432x288 with 1 Axes>"
      ]
     },
     "metadata": {
      "needs_background": "light"
     },
     "output_type": "display_data"
    }
   ],
   "source": [
    "plt.scatter(data_iris_setosa_versicolor[:, 3], \n",
    "            data_iris_setosa_versicolor[:, 4], c=classes, cmap=plt.cm.Set1,\n",
    "            edgecolor='k')\n",
    "plt.plot(x_plot,y_plot,'b',\n",
    "         x_plot,y_plot_minus_1, 'm',\n",
    "         x_plot, y_plot_plus_1,'r')\n",
    "plt.xlabel(\"petal length\")\n",
    "plt.ylabel(\"petal width\")\n",
    "plt.show()"
   ]
  },
  {
   "cell_type": "markdown",
   "id": "18942214-f1cd-45b9-a751-4cec340034b4",
   "metadata": {},
   "source": [
    "### Ajustando el modelo de la SVM sólo para dos atributos: `Sepal.Length` y `Sepal.Width`:"
   ]
  },
  {
   "cell_type": "code",
   "execution_count": 35,
   "id": "9cacabb9-7c0f-42e8-8a42-09b2321b4829",
   "metadata": {},
   "outputs": [],
   "source": [
    "data_iris_setosa_versicolor = data_iris[0:100, 0:2].copy()\n"
   ]
  },
  {
   "cell_type": "markdown",
   "id": "3022d4ad-43e4-4bf2-bc24-3bee66c89727",
   "metadata": {},
   "source": [
    "Aquí no estandarizamos."
   ]
  },
  {
   "cell_type": "code",
   "execution_count": 36,
   "id": "1bbdd3d4-eae9-4167-90e9-63457934dbe2",
   "metadata": {},
   "outputs": [],
   "source": [
    "data_iris_setosa_versicolor = np.column_stack((-1*np.ones((m,1)), data_iris_setosa_versicolor))"
   ]
  },
  {
   "cell_type": "code",
   "execution_count": 37,
   "id": "f981b2b6-f733-480b-9730-846ef2b5057c",
   "metadata": {},
   "outputs": [],
   "source": [
    "n = 3 #number of variables\n",
    "vec = cp.Variable(n) #optimization variable\n"
   ]
  },
  {
   "cell_type": "code",
   "execution_count": 38,
   "id": "56244ee8-9503-4b8f-b6d6-de85bb899f05",
   "metadata": {},
   "outputs": [],
   "source": [
    "fo_cvxpy = 1/2*cp.norm(vec[1:n],2)**2 #fo just includes a not intercept"
   ]
  },
  {
   "cell_type": "code",
   "execution_count": 39,
   "id": "47df8ef2-47f1-4b7b-8f6e-2e3434df7dd6",
   "metadata": {},
   "outputs": [],
   "source": [
    "constraints = [data_iris_setosa_versicolor[0:50,:]@vec <=-1,\n",
    "               data_iris_setosa_versicolor[50:100,:]@vec >= 1]"
   ]
  },
  {
   "cell_type": "code",
   "execution_count": 40,
   "id": "68f7c4ab-d3e7-41da-a7e6-16400eae089d",
   "metadata": {},
   "outputs": [],
   "source": [
    "obj = cp.Minimize(fo_cvxpy)"
   ]
  },
  {
   "cell_type": "code",
   "execution_count": 41,
   "id": "a2e18e3c-3fe4-49e6-b67e-896e14608a27",
   "metadata": {},
   "outputs": [
    {
     "name": "stdout",
     "output_type": "stream",
     "text": [
      "33.79501292632983\n"
     ]
    }
   ],
   "source": [
    "prob = cp.Problem(obj, constraints)\n",
    "print(prob.solve())"
   ]
  },
  {
   "cell_type": "code",
   "execution_count": 42,
   "id": "f681ca93-a140-4efb-80c2-88f7408a01fa",
   "metadata": {},
   "outputs": [
    {
     "name": "stdout",
     "output_type": "stream",
     "text": [
      "\n",
      "The optimal value is 33.79501292632983\n",
      "The optimal vector with intercept is\n",
      "[17.32  6.32 -5.26]\n"
     ]
    }
   ],
   "source": [
    "print(\"\\nThe optimal value is\", prob.value)\n",
    "print(\"The optimal vector with intercept is\")\n",
    "print(vec.value)\n"
   ]
  },
  {
   "cell_type": "code",
   "execution_count": 43,
   "id": "834c5f8f-722c-4ba2-b57c-db6c2a8e8a4e",
   "metadata": {},
   "outputs": [
    {
     "name": "stdout",
     "output_type": "stream",
     "text": [
      "[-1. -1. -1. -1. -1. -1. -1. -1. -1. -1. -1. -1. -1. -1. -1. -1. -1. -1.\n",
      " -1. -1. -1. -1. -1. -1. -1. -1. -1. -1. -1. -1. -1. -1. -1. -1. -1. -1.\n",
      " -1. -1. -1. -1. -1. -1. -1. -1. -1. -1. -1. -1. -1. -1.]\n"
     ]
    }
   ],
   "source": [
    "print(np.sign(data_iris_setosa_versicolor[0:50,:]@vec.value))"
   ]
  },
  {
   "cell_type": "code",
   "execution_count": 44,
   "id": "346743cf-ee2a-4b42-a1fb-2f214cc2a951",
   "metadata": {},
   "outputs": [
    {
     "name": "stdout",
     "output_type": "stream",
     "text": [
      "[1. 1. 1. 1. 1. 1. 1. 1. 1. 1. 1. 1. 1. 1. 1. 1. 1. 1. 1. 1. 1. 1. 1. 1.\n",
      " 1. 1. 1. 1. 1. 1. 1. 1. 1. 1. 1. 1. 1. 1. 1. 1. 1. 1. 1. 1. 1. 1. 1. 1.\n",
      " 1. 1.]\n"
     ]
    }
   ],
   "source": [
    "print(np.sign(data_iris_setosa_versicolor[50:100,:]@vec.value))"
   ]
  },
  {
   "cell_type": "code",
   "execution_count": 45,
   "id": "e5d45dd6-ddcc-4915-93ec-d9ce59f462f1",
   "metadata": {},
   "outputs": [],
   "source": [
    "b, a = vec.value[0], vec.value[1:n]"
   ]
  },
  {
   "cell_type": "code",
   "execution_count": 46,
   "id": "9bf80757-d0ca-4c4a-bec5-cba04a3f3c71",
   "metadata": {},
   "outputs": [
    {
     "name": "stdout",
     "output_type": "stream",
     "text": [
      "17.315789240731355\n"
     ]
    }
   ],
   "source": [
    "print(b)"
   ]
  },
  {
   "cell_type": "code",
   "execution_count": 47,
   "id": "b46638cb-7e8b-4391-b674-8f2bab3a9c0e",
   "metadata": {},
   "outputs": [
    {
     "name": "stdout",
     "output_type": "stream",
     "text": [
      "[ 6.32 -5.26]\n"
     ]
    }
   ],
   "source": [
    "print(a)"
   ]
  },
  {
   "cell_type": "code",
   "execution_count": 48,
   "id": "978ac53c-e97b-4b45-acfd-db1b7e09da6d",
   "metadata": {},
   "outputs": [],
   "source": [
    "x_min = np.min(data_iris_setosa_versicolor[:,1])\n",
    "x_max = np.max(data_iris_setosa_versicolor[:,1])\n",
    "y_min = np.min(data_iris_setosa_versicolor[:,2])\n",
    "y_max = np.max(data_iris_setosa_versicolor[:,2])\n",
    "x_plot = np.linspace(x_min, x_max, 100)"
   ]
  },
  {
   "cell_type": "code",
   "execution_count": 49,
   "id": "ed8f3c4c-cb78-4885-977f-da43b3a6f075",
   "metadata": {},
   "outputs": [],
   "source": [
    "y_plot = 1/a[1]*(-a[0]*x_plot + b)\n",
    "y_plot_minus_1 = 1/a[1]*(-a[0]*x_plot + b -1)\n",
    "\n",
    "y_plot_plus_1 = 1/a[1]*(-a[0]*x_plot + b + 1)"
   ]
  },
  {
   "cell_type": "code",
   "execution_count": 50,
   "id": "e41e18f2-5f0b-4602-b3aa-0ae9626d0c17",
   "metadata": {},
   "outputs": [
    {
     "data": {
      "image/png": "[encoded data removed]",
      "text/plain": [
       "<Figure size 432x288 with 1 Axes>"
      ]
     },
     "metadata": {
      "needs_background": "light"
     },
     "output_type": "display_data"
    }
   ],
   "source": [
    "plt.scatter(data_iris_setosa_versicolor[:, 1], \n",
    "            data_iris_setosa_versicolor[:, 2], c=classes, cmap=plt.cm.Set1,\n",
    "            edgecolor='k')\n",
    "plt.plot(x_plot,y_plot,'b',\n",
    "         x_plot,y_plot_minus_1, 'm',\n",
    "         x_plot, y_plot_plus_1,'r')\n",
    "plt.legend([\"$17.32 + 6.32x_1 -5.26x_2=0$\",\n",
    "            \"$17.32 + 6.32x_1 -5.26x_2=-1$\",\n",
    "            \"$17.32 + 6.32x_1 -5.26x_2=1$\"])\n",
    "plt.xlabel(\"sepal length\")\n",
    "plt.ylabel(\"sepal width\")\n",
    "plt.show()"
   ]
  }
 ],
 "metadata": {
  "kernelspec": {
   "display_name": "Python 3 (ipykernel)",
   "language": "python",
   "name": "python3"
  },
  "language_info": {
   "codemirror_mode": {
    "name": "ipython",
    "version": 3
   },
   "file_extension": ".py",
   "mimetype": "text/x-python",
   "name": "python",
   "nbconvert_exporter": "python",
   "pygments_lexer": "ipython3",
   "version": "3.8.10"
  }
 },
 "nbformat": 4,
 "nbformat_minor": 5
}
